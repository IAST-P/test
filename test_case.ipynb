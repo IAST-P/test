{
 "cells": [
  {
   "cell_type": "code",
   "execution_count": 1,
   "id": "ffedca7f",
   "metadata": {},
   "outputs": [
    {
     "name": "stdout",
     "output_type": "stream",
     "text": [
      "Connection successful!\n"
     ]
    }
   ],
   "source": [
    "import pandas as pd\n",
    "import requests\n",
    "from sqlalchemy import types, create_engine\n",
    "from sqlalchemy.exc import InvalidRequestError\n",
    "from bs4 import BeautifulSoup\n",
    "connection_url = 'mysql+pymysql://root:DimaP/120897@localhost:3306/test'\n",
    "engine = create_engine(connection_url)\n",
    "\n",
    "try:\n",
    "    engine.connect()\n",
    "    print(\"Connection successful!\")\n",
    "except Exception as e:\n",
    "    print(\"Connection failed:\", str(e))"
   ]
  },
  {
   "cell_type": "code",
   "execution_count": 5,
   "id": "35263ddb",
   "metadata": {},
   "outputs": [],
   "source": [
    "url = \"https://api.apilayer.com/exchangerates_data/latest?base=USD\"\n",
    "payload = {}\n",
    "headers= {\n",
    "  \"apikey\": \"Z0P3aS85iISgHr1zKnDLs1GUkmTaIHm2\"\n",
    "}\n",
    "response = requests.request(\"GET\", url, headers=headers, data = payload)\n",
    "result = pd.DataFrame(response.json()).reset_index()\n",
    "result = result[['index','rates']]\n",
    "result_types = dict(zip(\n",
    "    result.columns.tolist(),\n",
    "    (types.VARCHAR(length=3), types.Float()) ))\n",
    "\n",
    "try:\n",
    "    result.to_sql( name=\"currency\", schema=\"test\"\n",
    "              , con=engine\n",
    "              , if_exists='replace'\n",
    "              , index=False\n",
    "              , dtype = result_types)\n",
    "except (ValueError, InvalidRequestError):\n",
    "    print (\"Could not write to table 'test'.\")"
   ]
  },
  {
   "cell_type": "code",
   "execution_count": 5,
   "id": "8f000432",
   "metadata": {},
   "outputs": [],
   "source": [
    "url = 'https://en.wikipedia.org/wiki/List_of_countries_by_past_and_projected_GDP_(nominal)#IMF_estimates_between_2010_and_2019'\n",
    "response = requests.get(url)\n",
    "html_content = response.text\n",
    "soup = BeautifulSoup(html_content, 'html.parser')\n",
    "table = soup.find_all('table')[4]\n",
    "headers = ['country']+[i for i in range(2010,2020)]\n",
    "data = []\n",
    "for row in table.find_all('tr'):\n",
    "    row_data = []\n",
    "    for cell in row.find_all('td'):\n",
    "        row_data.append(cell.text.strip())\n",
    "    if row_data:\n",
    "        row_data = [int(int(value.replace(',', ''))*1000000) if value.replace(',', '').isdigit() else value for value in row_data]\n",
    "        data.append(row_data)\n",
    "gdp = pd.DataFrame(data, columns=headers).sort_values(by=2019, ascending=False).head().reset_index(drop=True)\n",
    "gdp = gdp.melt(id_vars='country', var_name='year', value_name='gdp')\n",
    "gdp_types = dict(zip(\n",
    "    gdp.columns.tolist(),\n",
    "    (types.VARCHAR(length=100), types.INT(),types.BIGINT()) ))\n",
    "try:\n",
    "    gdp.to_sql( name=\"gdp\", schema=\"test\"\n",
    "              , con=engine\n",
    "              , if_exists='replace'\n",
    "              , index=False\n",
    "              , dtype = gdp_types)\n",
    "except (ValueError, InvalidRequestError):\n",
    "    print (\"Could not write to table 'test'.\")"
   ]
  },
  {
   "cell_type": "code",
   "execution_count": 8,
   "id": "4a130a46",
   "metadata": {},
   "outputs": [],
   "source": [
    "info = {'United States': 'https://www.macrotrends.net/countries/USA/united-states/population', \n",
    "        'China':'https://www.macrotrends.net/countries/CHN/china/population', \n",
    "        'Japan':'https://www.macrotrends.net/countries/JPN/japan/population', \n",
    "        'Germany':'https://www.macrotrends.net/countries/DEU/germany/population',\n",
    "        'United Kingdom':'https://www.macrotrends.net/countries/GBR/united-kingdom/population'}\n",
    "popul = pd.DataFrame()\n",
    "for name, url in info.items():\n",
    "    response = requests.get(url)\n",
    "    html_content = response.text\n",
    "    soup = BeautifulSoup(html_content, 'html.parser')\n",
    "    table = soup.find_all('table')[1]\n",
    "    data = []\n",
    "    for row in table.find_all('tr'):\n",
    "        row_data = []\n",
    "        for cell in row.find_all('td'):\n",
    "            row_data.append(cell.text.strip())\n",
    "        if row_data:\n",
    "            if int(row_data[0]) in [i for i in range(2010,2020)]:\n",
    "                    data.append([int(row_data[0]), int(row_data[1].replace(',',''))])\n",
    "    df_temp = pd.DataFrame(data, columns=['year', 'population']).assign(country=name)\n",
    "    popul = pd.concat([popul,df_temp], axis=0, ignore_index=True)\n",
    "popul_types = dict(zip(\n",
    "    popul.columns.tolist(),\n",
    "    (types.INT(), types.INT(),types.VARCHAR(length=100)) ))\n",
    "try:\n",
    "    popul.to_sql( name=\"popul\", schema=\"test\"\n",
    "              , con=engine\n",
    "              , if_exists='replace'\n",
    "              , index=False\n",
    "              , dtype = popul_types)\n",
    "except (ValueError, InvalidRequestError):\n",
    "    print (\"Could not write to table 'test'.\")"
   ]
  },
  {
   "cell_type": "code",
   "execution_count": null,
   "id": "b04d60bc",
   "metadata": {},
   "outputs": [],
   "source": []
  }
 ],
 "metadata": {
  "kernelspec": {
   "display_name": "Python 3 (ipykernel)",
   "language": "python",
   "name": "python3"
  },
  "language_info": {
   "codemirror_mode": {
    "name": "ipython",
    "version": 3
   },
   "file_extension": ".py",
   "mimetype": "text/x-python",
   "name": "python",
   "nbconvert_exporter": "python",
   "pygments_lexer": "ipython3",
   "version": "3.10.3"
  }
 },
 "nbformat": 4,
 "nbformat_minor": 5
}
